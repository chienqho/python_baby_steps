{
 "cells": [
  {
   "cell_type": "markdown",
   "metadata": {},
   "source": [
    "## For Loops"
   ]
  },
  {
   "cell_type": "code",
   "execution_count": 2,
   "metadata": {},
   "outputs": [
    {
     "name": "stdout",
     "output_type": "stream",
     "text": [
      "Emma's Room - Keep Out!!, counter: 1\n",
      "Emma's Room - Keep Out!!, counter: 2\n",
      "Emma's Room - Keep Out!!, counter: 3\n",
      "Emma's Room - Keep Out!!, counter: 4\n",
      "Emma's Room - Keep Out!!, counter: 5\n",
      "Emma's Room - Keep Out!!, counter: 6\n",
      "Emma's Room - Keep Out!!, counter: 7\n",
      "Emma's Room - Keep Out!!, counter: 8\n",
      "Emma's Room - Keep Out!!, counter: 9\n",
      "Emma's Room - Keep Out!!, counter: 10\n"
     ]
    }
   ],
   "source": [
    "for counter in range(1, 11):\n",
    "    print(f'Emma\\'s Room - Keep Out!!, counter: {counter}')"
   ]
  },
  {
   "cell_type": "code",
   "execution_count": 6,
   "metadata": {},
   "outputs": [
    {
     "name": "stdout",
     "output_type": "stream",
     "text": [
      "Emma's Room - Keep Out!!, counter: 0\n",
      "Emma's Room - Keep Out!!, counter: 1\n",
      "Emma's Room - Keep Out!!, counter: 2\n",
      "Emma's Room - Keep Out!!, counter: 3\n",
      "Emma's Room - Keep Out!!, counter: 4\n",
      "Emma's Room - Keep Out!!, counter: 5\n",
      "Emma's Room - Keep Out!!, counter: 6\n",
      "Emma's Room - Keep Out!!, counter: 7\n",
      "Emma's Room - Keep Out!!, counter: 8\n",
      "Emma's Room - Keep Out!!, counter: 9\n"
     ]
    }
   ],
   "source": [
    "for counter in range(10):\n",
    "    print(f'Emma\\'s Room - Keep Out!!, counter: {counter}')"
   ]
  },
  {
   "cell_type": "markdown",
   "metadata": {},
   "source": [
    "## While Loop"
   ]
  },
  {
   "cell_type": "code",
   "execution_count": 9,
   "metadata": {},
   "outputs": [
    {
     "name": "stdout",
     "output_type": "stream",
     "text": [
      "1 balancing hippos!\n",
      "2 balancing hippos!\n",
      "3 balancing hippos!\n"
     ]
    }
   ],
   "source": [
    "# declare variables\n",
    "number_of_hippos = 0\n",
    "answer = 'y'\n",
    "\n",
    "while answer == 'y':\n",
    "    number_of_hippos = number_of_hippos + 1\n",
    "    print(f'{number_of_hippos} balancing hippos!')\n",
    "    answer = input('Add another hippo? (y/n)')\n"
   ]
  },
  {
   "cell_type": "code",
   "execution_count": 1,
   "metadata": {},
   "outputs": [
    {
     "name": "stdout",
     "output_type": "stream",
     "text": [
      "1 balancing hippos!\n",
      "2 balancing hippos!\n",
      "3 balancing hippos!\n",
      "4 balancing hippos!\n"
     ]
    }
   ],
   "source": [
    "# using ChatGPT to annotate code\n",
    "\n",
    "# declare variables\n",
    "number_of_hippos = 0 # Initialize the variable \"number_of_hippos\" with value 0\n",
    "answer = 'y' # Initialize the variable \"answer\" with value 'y'\n",
    "\n",
    "while answer == 'y': # Start a while loop that will repeat as long as the value of \"answer\" is 'y'\n",
    "    number_of_hippos = number_of_hippos + 1 # Increase the value of \"number_of_hippos\" by 1\n",
    "    print(f'{number_of_hippos} balancing hippos!') # Print a message that includes the current value of \"number_of_hippos\"\n",
    "    answer = input('Add another hippo? (y/n)') # Ask the user if they want to add another hippo. The user's response is stored in the \"answer\" variable\n"
   ]
  },
  {
   "cell_type": "code",
   "execution_count": 2,
   "metadata": {},
   "outputs": [
    {
     "name": "stdout",
     "output_type": "stream",
     "text": [
      "1 balancing hippo!\n",
      "2 balancing hippos!\n",
      "3 balancing hippos!\n",
      "4 balancing hippos!\n",
      "5 balancing hippos!\n"
     ]
    }
   ],
   "source": [
    "# using ChatGPT to see if improvements can be made\n",
    "\n",
    "# initialize variables\n",
    "number_of_hippos = 0 # Count of the number of balancing hippos\n",
    "answer = 'y' # User's response to the prompt to add another hippo\n",
    "\n",
    "while answer.lower() == 'y': # Start a while loop that will repeat as long as the value of \"answer\" is 'y' (case-insensitive)\n",
    "    number_of_hippos += 1 # Increment the count of the number of balancing hippos\n",
    "    print(f'{number_of_hippos} balancing hippo{\"s\" if number_of_hippos > 1 else \"\"}!') # Print a message that includes the current count of the number of balancing hippos, with proper pluralization\n",
    "    answer = input('Add another hippo? (y/n) ') # Ask the user if they want to add another hippo, and store their response in the \"answer\" variable\n"
   ]
  },
  {
   "cell_type": "code",
   "execution_count": null,
   "metadata": {},
   "outputs": [],
   "source": []
  }
 ],
 "metadata": {
  "kernelspec": {
   "display_name": "Python 3.9.12 ('base')",
   "language": "python",
   "name": "python3"
  },
  "language_info": {
   "codemirror_mode": {
    "name": "ipython",
    "version": 3
   },
   "file_extension": ".py",
   "mimetype": "text/x-python",
   "name": "python",
   "nbconvert_exporter": "python",
   "pygments_lexer": "ipython3",
   "version": "3.9.12"
  },
  "orig_nbformat": 4,
  "vscode": {
   "interpreter": {
    "hash": "8b7e0a18d6f7cd3a69dd9748053bae790d2740379c679962644355db4895c62e"
   }
  }
 },
 "nbformat": 4,
 "nbformat_minor": 2
}
